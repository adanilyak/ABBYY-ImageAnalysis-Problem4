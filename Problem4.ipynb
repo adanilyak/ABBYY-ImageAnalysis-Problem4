{
 "cells": [
  {
   "cell_type": "code",
   "execution_count": 1,
   "metadata": {
    "collapsed": false,
    "deletable": true,
    "editable": true
   },
   "outputs": [],
   "source": [
    "import cv2\n",
    "%matplotlib inline\n",
    "import matplotlib.pyplot as plt\n",
    "import numpy as np\n",
    "import time"
   ]
  },
  {
   "cell_type": "code",
   "execution_count": 2,
   "metadata": {
    "collapsed": false,
    "deletable": true,
    "editable": true
   },
   "outputs": [],
   "source": [
    "# Видео поток\n",
    "# ipython notebook должен лежать в папке с картинками\n",
    "videoCapture = cv2.VideoCapture(\"%02d.tif\")"
   ]
  },
  {
   "cell_type": "code",
   "execution_count": 3,
   "metadata": {
    "collapsed": false,
    "deletable": true,
    "editable": true,
    "scrolled": true
   },
   "outputs": [],
   "source": [
    "# Считывание кадра\n",
    "def readFrame(videoCapture):\n",
    "    retVal, frame = videoCapture.read()\n",
    "    if retVal == False:\n",
    "        return False, None\n",
    "    else:\n",
    "        # Так как видео уже в grayscale, то нужно просто дропнуть лишние каналы\n",
    "        frameGray, _, _ = cv2.split(frame)\n",
    "        return True, frameGray\n",
    "\n",
    "# Перевод матрицы преобразования в дельты по X, Y и углу\n",
    "def displacementAndRotation(transform):\n",
    "    dx = transform[0 ,2]\n",
    "    dy = transform[1, 2]\n",
    "    rot = np.arctan2(transform[1, 0],transform[0, 0])\n",
    "    return (dx, dy, rot)\n",
    "\n",
    "def writeTrajectoryToFile(trajectory):\n",
    "    out = open('results.txt', 'w')\n",
    "    for i, accumulatedDisplacement in enumerate(trajectory):\n",
    "        strX = str(round(accumulatedDisplacement[0]))\n",
    "        strY = str(round(accumulatedDisplacement[1]))\n",
    "        out.write(str(i + 1).zfill(2) + \" frame | x: \" + strX + \" y: \" + strY + \"\\n\")\n",
    "    out.close()"
   ]
  },
  {
   "cell_type": "code",
   "execution_count": 4,
   "metadata": {
    "collapsed": false,
    "deletable": true,
    "editable": true
   },
   "outputs": [],
   "source": [
    "# Параметры для поиска особых точек \n",
    "featureParameters = {'maxCorners' : 100, 'qualityLevel' : 0.3, 'minDistance' : 3, 'blockSize' : 3}\n",
    "# Параметры для подсчета оптического потока методом Lucas-Kanade с пирамидами\n",
    "lkParameters = {'winSize' : (15, 15), 'maxLevel' : 2, 'criteria' : (cv2.TERM_CRITERIA_EPS | cv2.TERM_CRITERIA_COUNT, 10, 0.03)}"
   ]
  },
  {
   "cell_type": "code",
   "execution_count": 5,
   "metadata": {
    "collapsed": true,
    "deletable": true,
    "editable": true
   },
   "outputs": [],
   "source": [
    "# Подсчет траектории сдвига камеры для каждого кадра относительно первого\n",
    "def processFrames(videoCapture, featureParameters, lkParameters):\n",
    "    # Перемещения между кадрами\n",
    "    frameToFrameMismatch = []\n",
    "    \n",
    "    # Время после обработки каждого кадра\n",
    "    elapsedTime = []\n",
    "    \n",
    "    # Считываем по кадру, ищем ключевые точки (с помощью поиска углов)\n",
    "    # Считаем перемещение между соседними кадрами\n",
    "    retVal, frame = readFrame(videoCapture)\n",
    "    features = cv2.goodFeaturesToTrack(frame, mask = None, useHarrisDetector = 1, **featureParameters)\n",
    "    \n",
    "    while(True):\n",
    "        newRetVal, newFrame = readFrame(videoCapture)\n",
    "        if newRetVal == False:\n",
    "            break\n",
    "        newFeatures, status, error = cv2.calcOpticalFlowPyrLK(frame, newFrame, features, None, **lkParameters)\n",
    "        \n",
    "        matchedKeyPoints = features[status == 1]\n",
    "        newMatchedKeyPoints = newFeatures[status == 1]\n",
    "        \n",
    "        transform = cv2.estimateRigidTransform(matchedKeyPoints, newMatchedKeyPoints, False)\n",
    "        frameToFrameMismatch.append(displacementAndRotation(transform))\n",
    "        \n",
    "        frame = newFrame\n",
    "        features = newFeatures\n",
    "        \n",
    "        elapsedTime.append(time.perf_counter())\n",
    "    \n",
    "    # Складываем перемещения от кадра к кадру\n",
    "    # Чтобы получить итоговую тракеторию движения изображения\n",
    "    \n",
    "    # X Y Angle\n",
    "    trajectory = [(0.0, 0.0, 0.0)]\n",
    "    \n",
    "    totalX, totalY, totalAngle = 0.0, 0.0, 0.0\n",
    "    \n",
    "    for frameMismatch in frameToFrameMismatch:\n",
    "        totalX += frameMismatch[0]\n",
    "        totalY += frameMismatch[1]\n",
    "        totalAngle += frameMismatch[2]\n",
    "        \n",
    "        trajectory.append((totalX, totalY, totalAngle))\n",
    "    \n",
    "    return trajectory, elapsedTime"
   ]
  },
  {
   "cell_type": "code",
   "execution_count": 6,
   "metadata": {
    "collapsed": false,
    "deletable": true,
    "editable": true,
    "scrolled": true
   },
   "outputs": [],
   "source": [
    "trajectory, elapsedTime = processFrames(videoCapture, featureParameters, lkParameters)\n",
    "writeTrajectoryToFile(trajectory)"
   ]
  },
  {
   "cell_type": "code",
   "execution_count": 11,
   "metadata": {
    "collapsed": false
   },
   "outputs": [
    {
     "data": {
      "image/png": "[encoded data removed]",
      "text/plain": [
       "<matplotlib.figure.Figure at 0x1ddccc4c710>"
      ]
     },
     "metadata": {},
     "output_type": "display_data"
    }
   ],
   "source": [
    "plt.plot(range(1, len(elapsedTime) + 1), elapsedTime)\n",
    "plt.ylabel('время, c')\n",
    "plt.xlabel('кадр')\n",
    "plt.axis([1, 12, 0, 0.015])\n",
    "plt.show()"
   ]
  },
  {
   "cell_type": "code",
   "execution_count": null,
   "metadata": {
    "collapsed": true
   },
   "outputs": [],
   "source": []
  }
 ],
 "metadata": {
  "kernelspec": {
   "display_name": "Python 3",
   "language": "python",
   "name": "python3"
  },
  "language_info": {
   "codemirror_mode": {
    "name": "ipython",
    "version": 3
   },
   "file_extension": ".py",
   "mimetype": "text/x-python",
   "name": "python",
   "nbconvert_exporter": "python",
   "pygments_lexer": "ipython3",
   "version": "3.5.3"
  }
 },
 "nbformat": 4,
 "nbformat_minor": 2
}
